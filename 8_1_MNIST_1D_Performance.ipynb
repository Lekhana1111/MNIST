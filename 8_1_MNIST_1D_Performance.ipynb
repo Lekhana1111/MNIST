{
  "cells": [
    {
      "cell_type": "markdown",
      "metadata": {
        "id": "view-in-github"
      },
      "source": [
        "<a href=\"https://colab.research.google.com/github/udlbook/udlbook/blob/main/Notebooks/Chap08/8_1_MNIST_1D_Performance.ipynb\" target=\"_parent\"><img src=\"https://colab.research.google.com/assets/colab-badge.svg\" alt=\"Open In Colab\"/></a>"
      ]
    },
    {
      "cell_type": "markdown",
      "metadata": {
        "id": "L6chybAVFJW2"
      },
      "source": [
        "# **Notebook 8.1: MNIST_1D_Performance**\n",
        "\n",
        "This notebook runs a simple neural network on the MNIST1D dataset as in figure 8.2a. It uses code from https://github.com/greydanus/mnist1d to generate the data.\n",
        "\n",
        "Work through the cells below, running each cell in turn. In various places you will see the words \"TO DO\". Follow the instructions at these places and make predictions about what is going to happen or write code to complete the functions.\n",
        "\n",
        "Contact me at udlbookmail@gmail.com if you find any mistakes or have any suggestions."
      ]
    },
    {
      "cell_type": "code",
      "execution_count": 1,
      "metadata": {
        "id": "ifVjS4cTOqKz",
        "colab": {
          "base_uri": "https://localhost:8080/"
        },
        "outputId": "621d2e23-927f-4342-9e6e-dbad702ddf36"
      },
      "outputs": [
        {
          "output_type": "stream",
          "name": "stdout",
          "text": [
            "Collecting git+https://github.com/greydanus/mnist1d\n",
            "  Cloning https://github.com/greydanus/mnist1d to /tmp/pip-req-build-hvq78ouu\n",
            "  Running command git clone --filter=blob:none --quiet https://github.com/greydanus/mnist1d /tmp/pip-req-build-hvq78ouu\n",
            "  Resolved https://github.com/greydanus/mnist1d to commit 68cb6b2d1d3a956cc2e9035e5a9860b66e33d642\n",
            "  Installing build dependencies ... \u001b[?25l\u001b[?25hdone\n",
            "  Getting requirements to build wheel ... \u001b[?25l\u001b[?25hdone\n",
            "  Preparing metadata (pyproject.toml) ... \u001b[?25l\u001b[?25hdone\n",
            "Requirement already satisfied: requests in /usr/local/lib/python3.10/dist-packages (from mnist1d==0.0.2.post15) (2.32.3)\n",
            "Requirement already satisfied: numpy in /usr/local/lib/python3.10/dist-packages (from mnist1d==0.0.2.post15) (1.26.4)\n",
            "Requirement already satisfied: matplotlib in /usr/local/lib/python3.10/dist-packages (from mnist1d==0.0.2.post15) (3.7.1)\n",
            "Requirement already satisfied: scipy in /usr/local/lib/python3.10/dist-packages (from mnist1d==0.0.2.post15) (1.13.1)\n",
            "Requirement already satisfied: contourpy>=1.0.1 in /usr/local/lib/python3.10/dist-packages (from matplotlib->mnist1d==0.0.2.post15) (1.3.0)\n",
            "Requirement already satisfied: cycler>=0.10 in /usr/local/lib/python3.10/dist-packages (from matplotlib->mnist1d==0.0.2.post15) (0.12.1)\n",
            "Requirement already satisfied: fonttools>=4.22.0 in /usr/local/lib/python3.10/dist-packages (from matplotlib->mnist1d==0.0.2.post15) (4.54.1)\n",
            "Requirement already satisfied: kiwisolver>=1.0.1 in /usr/local/lib/python3.10/dist-packages (from matplotlib->mnist1d==0.0.2.post15) (1.4.7)\n",
            "Requirement already satisfied: packaging>=20.0 in /usr/local/lib/python3.10/dist-packages (from matplotlib->mnist1d==0.0.2.post15) (24.1)\n",
            "Requirement already satisfied: pillow>=6.2.0 in /usr/local/lib/python3.10/dist-packages (from matplotlib->mnist1d==0.0.2.post15) (10.4.0)\n",
            "Requirement already satisfied: pyparsing>=2.3.1 in /usr/local/lib/python3.10/dist-packages (from matplotlib->mnist1d==0.0.2.post15) (3.1.4)\n",
            "Requirement already satisfied: python-dateutil>=2.7 in /usr/local/lib/python3.10/dist-packages (from matplotlib->mnist1d==0.0.2.post15) (2.8.2)\n",
            "Requirement already satisfied: charset-normalizer<4,>=2 in /usr/local/lib/python3.10/dist-packages (from requests->mnist1d==0.0.2.post15) (3.3.2)\n",
            "Requirement already satisfied: idna<4,>=2.5 in /usr/local/lib/python3.10/dist-packages (from requests->mnist1d==0.0.2.post15) (3.10)\n",
            "Requirement already satisfied: urllib3<3,>=1.21.1 in /usr/local/lib/python3.10/dist-packages (from requests->mnist1d==0.0.2.post15) (2.2.3)\n",
            "Requirement already satisfied: certifi>=2017.4.17 in /usr/local/lib/python3.10/dist-packages (from requests->mnist1d==0.0.2.post15) (2024.8.30)\n",
            "Requirement already satisfied: six>=1.5 in /usr/local/lib/python3.10/dist-packages (from python-dateutil>=2.7->matplotlib->mnist1d==0.0.2.post15) (1.16.0)\n",
            "Building wheels for collected packages: mnist1d\n",
            "  Building wheel for mnist1d (pyproject.toml) ... \u001b[?25l\u001b[?25hdone\n",
            "  Created wheel for mnist1d: filename=mnist1d-0.0.2.post15-py3-none-any.whl size=14561 sha256=72f8765d80c44901d336e2e66841de08d7be33b2c8a3045aad5277b9c16048b2\n",
            "  Stored in directory: /tmp/pip-ephem-wheel-cache-pagjs7al/wheels/41/95/55/45fcf7d38cfa97e35682da6c5017d4513729131326ce935371\n",
            "Successfully built mnist1d\n",
            "Installing collected packages: mnist1d\n",
            "Successfully installed mnist1d-0.0.2.post15\n"
          ]
        }
      ],
      "source": [
        "# Run this if you're in a Colab to install MNIST 1D repository\n",
        "%pip install git+https://github.com/greydanus/mnist1d"
      ]
    },
    {
      "cell_type": "code",
      "execution_count": 2,
      "metadata": {
        "id": "qyE7G1StPIqO"
      },
      "outputs": [],
      "source": [
        "import torch, torch.nn as nn\n",
        "from torch.utils.data import TensorDataset, DataLoader\n",
        "from torch.optim.lr_scheduler import StepLR\n",
        "import numpy as np\n",
        "import matplotlib.pyplot as plt\n",
        "import mnist1d"
      ]
    },
    {
      "cell_type": "markdown",
      "metadata": {
        "id": "F7LNq72SP6jO"
      },
      "source": [
        "Let's generate a training and test dataset using the MNIST1D code.  The dataset gets saved as a .pkl file so it doesn't have to be regenerated each time."
      ]
    },
    {
      "cell_type": "code",
      "execution_count": 3,
      "metadata": {
        "id": "YLxf7dJfPaqw",
        "colab": {
          "base_uri": "https://localhost:8080/"
        },
        "outputId": "d8b81a39-eeec-433e-a735-aceba46c49ad"
      },
      "outputs": [
        {
          "output_type": "stream",
          "name": "stdout",
          "text": [
            "Did or could not load data from ./mnist1d_data.pkl. Rebuilding dataset...\n",
            "Examples in training set: 4000\n",
            "Examples in test set: 1000\n",
            "Length of each example: 40\n"
          ]
        }
      ],
      "source": [
        "args = mnist1d.data.get_dataset_args()\n",
        "data = mnist1d.data.get_dataset(args, path='./mnist1d_data.pkl', download=False, regenerate=False)\n",
        "\n",
        "# The training and test input and outputs are in\n",
        "# data['x'], data['y'], data['x_test'], and data['y_test']\n",
        "print(\"Examples in training set: {}\".format(len(data['y'])))\n",
        "print(\"Examples in test set: {}\".format(len(data['y_test'])))\n",
        "print(\"Length of each example: {}\".format(data['x'].shape[-1]))"
      ]
    },
    {
      "cell_type": "code",
      "execution_count": 4,
      "metadata": {
        "id": "FxaB5vc0uevl",
        "colab": {
          "base_uri": "https://localhost:8080/"
        },
        "outputId": "84c6649f-3086-438a-a02b-9397314299a7"
      },
      "outputs": [
        {
          "output_type": "stream",
          "name": "stdout",
          "text": [
            "Initializing layer\n",
            "Initializing layer\n",
            "Initializing layer\n",
            "Initializing layer\n",
            "Initializing layer\n",
            "Initializing layer\n"
          ]
        },
        {
          "output_type": "execute_result",
          "data": {
            "text/plain": [
              "Sequential(\n",
              "  (0): Linear(in_features=40, out_features=4000, bias=True)\n",
              "  (1): ReLU()\n",
              "  (2): Linear(in_features=4000, out_features=4000, bias=True)\n",
              "  (3): ReLU()\n",
              "  (4): Linear(in_features=4000, out_features=10, bias=True)\n",
              ")"
            ]
          },
          "metadata": {},
          "execution_count": 4
        }
      ],
      "source": [
        "D_i = 40    # Input dimensions\n",
        "D_k = 4000   # Hidden dimensions\n",
        "D_o = 10    # Output dimensions\n",
        "# TO DO:\n",
        "# Define a model with two hidden layers of size 100\n",
        "# And ReLU activations between them\n",
        "# Replace this line (see Figure 7.8 of book for help):\n",
        "model = nn.Sequential(\n",
        "    nn.Linear(D_i, D_k),\n",
        "    nn.ReLU(),\n",
        "    nn.Linear(D_k, D_k),\n",
        "    nn.ReLU(),\n",
        "    nn.Linear(D_k, D_o)\n",
        ")\n",
        "\n",
        "\n",
        "def weights_init(layer_in):\n",
        "  # TO DO:\n",
        "  # Initialize the parameters with He initialization\n",
        "  # Replace this line (see figure 7.8 of book for help)\n",
        "  if isinstance(layer_in, nn.Linear):\n",
        "    nn.init.kaiming_normal_(layer_in.weight)\n",
        "    layer_in.bias.data.fill_(0.0)\n",
        "  print(\"Initializing layer\")\n",
        "\n",
        "\n",
        "# Call the function you just defined\n",
        "model.apply(weights_init)\n"
      ]
    },
    {
      "cell_type": "code",
      "execution_count": 5,
      "metadata": {
        "id": "_rX6N3VyyQTY",
        "colab": {
          "base_uri": "https://localhost:8080/"
        },
        "outputId": "31e0bde4-2355-4928-ca04-6f38286752fd"
      },
      "outputs": [
        {
          "output_type": "stream",
          "name": "stdout",
          "text": [
            "Initializing layer\n",
            "Initializing layer\n",
            "Initializing layer\n",
            "Initializing layer\n",
            "Initializing layer\n",
            "Initializing layer\n",
            "Epoch     0, train loss 1.566330, train error 61.05,  test loss 1.664941, test error 66.20\n",
            "Epoch     1, train loss 1.318244, train error 49.65,  test loss 1.527188, test error 59.00\n",
            "Epoch     2, train loss 1.076190, train error 39.00,  test loss 1.429075, test error 52.20\n",
            "Epoch     3, train loss 0.852334, train error 32.22,  test loss 1.267454, test error 46.90\n",
            "Epoch     4, train loss 0.733292, train error 26.57,  test loss 1.240712, test error 43.10\n",
            "Epoch     5, train loss 0.558487, train error 19.88,  test loss 1.138962, test error 41.10\n",
            "Epoch     6, train loss 0.473738, train error 16.75,  test loss 1.164062, test error 38.00\n",
            "Epoch     7, train loss 0.333395, train error 11.97,  test loss 1.180671, test error 38.50\n",
            "Epoch     8, train loss 0.319700, train error 11.18,  test loss 1.200142, test error 38.00\n",
            "Epoch     9, train loss 0.245328, train error 8.70,  test loss 1.244921, test error 38.10\n",
            "Epoch    10, train loss 0.082003, train error 1.45,  test loss 1.000665, test error 29.80\n",
            "Epoch    11, train loss 0.037444, train error 0.18,  test loss 1.047125, test error 29.70\n",
            "Epoch    12, train loss 0.024667, train error 0.03,  test loss 1.070086, test error 30.30\n",
            "Epoch    13, train loss 0.017460, train error 0.00,  test loss 1.107104, test error 31.20\n",
            "Epoch    14, train loss 0.013517, train error 0.00,  test loss 1.119705, test error 30.80\n",
            "Epoch    15, train loss 0.011303, train error 0.00,  test loss 1.133347, test error 30.30\n",
            "Epoch    16, train loss 0.009858, train error 0.00,  test loss 1.156356, test error 30.90\n",
            "Epoch    17, train loss 0.008656, train error 0.00,  test loss 1.170278, test error 30.40\n",
            "Epoch    18, train loss 0.007781, train error 0.00,  test loss 1.179844, test error 30.60\n",
            "Epoch    19, train loss 0.007063, train error 0.00,  test loss 1.185717, test error 30.30\n",
            "Epoch    20, train loss 0.006738, train error 0.00,  test loss 1.192655, test error 30.40\n",
            "Epoch    21, train loss 0.006467, train error 0.00,  test loss 1.198102, test error 30.60\n",
            "Epoch    22, train loss 0.006224, train error 0.00,  test loss 1.200615, test error 30.50\n",
            "Epoch    23, train loss 0.006004, train error 0.00,  test loss 1.206051, test error 30.70\n",
            "Epoch    24, train loss 0.005796, train error 0.00,  test loss 1.207742, test error 30.40\n",
            "Epoch    25, train loss 0.005606, train error 0.00,  test loss 1.213766, test error 30.70\n",
            "Epoch    26, train loss 0.005422, train error 0.00,  test loss 1.216282, test error 30.50\n",
            "Epoch    27, train loss 0.005254, train error 0.00,  test loss 1.220644, test error 30.70\n",
            "Epoch    28, train loss 0.005095, train error 0.00,  test loss 1.223443, test error 30.30\n",
            "Epoch    29, train loss 0.004944, train error 0.00,  test loss 1.227464, test error 30.30\n",
            "Epoch    30, train loss 0.004873, train error 0.00,  test loss 1.229839, test error 30.40\n",
            "Epoch    31, train loss 0.004802, train error 0.00,  test loss 1.231256, test error 30.30\n",
            "Epoch    32, train loss 0.004736, train error 0.00,  test loss 1.233036, test error 30.30\n",
            "Epoch    33, train loss 0.004670, train error 0.00,  test loss 1.234031, test error 30.50\n",
            "Epoch    34, train loss 0.004607, train error 0.00,  test loss 1.235816, test error 30.20\n",
            "Epoch    35, train loss 0.004546, train error 0.00,  test loss 1.238078, test error 30.30\n",
            "Epoch    36, train loss 0.004487, train error 0.00,  test loss 1.239314, test error 30.30\n",
            "Epoch    37, train loss 0.004428, train error 0.00,  test loss 1.240487, test error 30.30\n",
            "Epoch    38, train loss 0.004372, train error 0.00,  test loss 1.242256, test error 30.30\n",
            "Epoch    39, train loss 0.004318, train error 0.00,  test loss 1.243385, test error 30.30\n",
            "Epoch    40, train loss 0.004290, train error 0.00,  test loss 1.244572, test error 30.30\n",
            "Epoch    41, train loss 0.004263, train error 0.00,  test loss 1.245123, test error 30.30\n",
            "Epoch    42, train loss 0.004237, train error 0.00,  test loss 1.245686, test error 30.40\n",
            "Epoch    43, train loss 0.004211, train error 0.00,  test loss 1.246836, test error 30.20\n",
            "Epoch    44, train loss 0.004186, train error 0.00,  test loss 1.247544, test error 30.30\n",
            "Epoch    45, train loss 0.004160, train error 0.00,  test loss 1.248255, test error 30.30\n",
            "Epoch    46, train loss 0.004136, train error 0.00,  test loss 1.248719, test error 30.30\n",
            "Epoch    47, train loss 0.004111, train error 0.00,  test loss 1.249732, test error 30.30\n",
            "Epoch    48, train loss 0.004087, train error 0.00,  test loss 1.250196, test error 30.20\n",
            "Epoch    49, train loss 0.004063, train error 0.00,  test loss 1.250602, test error 30.30\n"
          ]
        }
      ],
      "source": [
        "# choose cross entropy loss function (equation 5.24)\n",
        "loss_function = torch.nn.CrossEntropyLoss()\n",
        "# construct SGD optimizer and initialize learning rate and momentum\n",
        "optimizer = torch.optim.SGD(model.parameters(), lr = 0.05, momentum=0.9)\n",
        "# object that decreases learning rate by half every 10 epochs\n",
        "scheduler = StepLR(optimizer, step_size=10, gamma=0.5)\n",
        "x_train = torch.tensor(data['x'].astype('float32'))\n",
        "y_train = torch.tensor(data['y'].transpose().astype('int64'))\n",
        "x_test= torch.tensor(data['x_test'].astype('float32'))\n",
        "y_test = torch.tensor(data['y_test'].astype('int64'))\n",
        "\n",
        "# load the data into a class that creates the batches\n",
        "data_loader = DataLoader(TensorDataset(x_train,y_train), batch_size=100, shuffle=True, worker_init_fn=np.random.seed(1))\n",
        "\n",
        "# Initialize model weights\n",
        "model.apply(weights_init)\n",
        "\n",
        "# loop over the dataset n_epoch times\n",
        "n_epoch = 50\n",
        "# store the loss and the % correct at each epoch\n",
        "losses_train = np.zeros((n_epoch))\n",
        "errors_train = np.zeros((n_epoch))\n",
        "losses_test = np.zeros((n_epoch))\n",
        "errors_test = np.zeros((n_epoch))\n",
        "\n",
        "for epoch in range(n_epoch):\n",
        "  # loop over batches\n",
        "  for i, batch in enumerate(data_loader):\n",
        "    # retrieve inputs and labels for this batch\n",
        "    x_batch, y_batch = batch\n",
        "    # zero the parameter gradients\n",
        "    optimizer.zero_grad()\n",
        "    # forward pass -- calculate model output\n",
        "    pred = model(x_batch)\n",
        "    # compute the loss\n",
        "    loss = loss_function(pred, y_batch)\n",
        "    # backward pass\n",
        "    loss.backward()\n",
        "    # SGD update\n",
        "    optimizer.step()\n",
        "\n",
        "  # Run whole dataset to get statistics -- normally wouldn't do this\n",
        "  pred_train = model(x_train)\n",
        "  pred_test = model(x_test)\n",
        "  _, predicted_train_class = torch.max(pred_train.data, 1)\n",
        "  _, predicted_test_class = torch.max(pred_test.data, 1)\n",
        "  errors_train[epoch] = 100 - 100 * (predicted_train_class == y_train).float().sum() / len(y_train)\n",
        "  errors_test[epoch]= 100 - 100 * (predicted_test_class == y_test).float().sum() / len(y_test)\n",
        "  losses_train[epoch] = loss_function(pred_train, y_train).item()\n",
        "  losses_test[epoch]= loss_function(pred_test, y_test).item()\n",
        "  print(f'Epoch {epoch:5d}, train loss {losses_train[epoch]:.6f}, train error {errors_train[epoch]:3.2f},  test loss {losses_test[epoch]:.6f}, test error {errors_test[epoch]:3.2f}')\n",
        "\n",
        "  # tell scheduler to consider updating learning rate\n",
        "  scheduler.step()"
      ]
    },
    {
      "cell_type": "code",
      "execution_count": 6,
      "metadata": {
        "id": "yI-l6kA_EH9G",
        "colab": {
          "base_uri": "https://localhost:8080/",
          "height": 927
        },
        "outputId": "b9271397-9753-4e6b-e70a-ddcacdc289c8"
      },
      "outputs": [
        {
          "output_type": "display_data",
          "data": {
            "text/plain": [
              "<Figure size 640x480 with 1 Axes>"
            ],
            "image/png": "[encoded data removed]"
          },
          "metadata": {}
        },
        {
          "output_type": "display_data",
          "data": {
            "text/plain": [
              "<Figure size 640x480 with 1 Axes>"
            ],
            "image/png": "[encoded data removed]"
          },
          "metadata": {}
        }
      ],
      "source": [
        "# Plot the results\n",
        "fig, ax = plt.subplots()\n",
        "ax.plot(errors_train,'r-',label='train')\n",
        "ax.plot(errors_test,'b-',label='test')\n",
        "ax.set_ylim(0,100); ax.set_xlim(0,n_epoch)\n",
        "ax.set_xlabel('Epoch'); ax.set_ylabel('Error')\n",
        "ax.set_title('TrainError %3.2f, Test Error %3.2f'%(errors_train[-1],errors_test[-1]))\n",
        "ax.legend()\n",
        "plt.show()\n",
        "\n",
        "# Plot the results\n",
        "fig, ax = plt.subplots()\n",
        "ax.plot(losses_train,'r-',label='train')\n",
        "ax.plot(losses_test,'b-',label='test')\n",
        "ax.set_xlim(0,n_epoch)\n",
        "ax.set_xlabel('Epoch'); ax.set_ylabel('Loss')\n",
        "ax.set_title('Train loss %3.2f, Test loss %3.2f'%(losses_train[-1],losses_test[-1]))\n",
        "ax.legend()\n",
        "plt.show()"
      ]
    },
    {
      "cell_type": "markdown",
      "metadata": {
        "id": "q-yT6re6GZS4"
      },
      "source": [
        "**TO DO**\n",
        "\n",
        "Play with the model -- try changing the number of layers, hidden units, learning rate, batch size, momentum or anything else you like.  See if you can improve the test results.\n",
        "\n",
        "Is it a good idea to optimize the hyperparameters in this way?  Will the final result be a good estimate of the true test performance?"
      ]
    },
    {
      "cell_type": "markdown",
      "source": [
        "I changed the number of hidden units and i observed the test error getting decresed with increased hidden units. As I played around with number of epochs, I observed test error getting worse."
      ],
      "metadata": {
        "id": "BWqkNKHFLjKe"
      }
    },
    {
      "cell_type": "markdown",
      "source": [
        "I can improve my model by implementing more systematic hyperparameter optimization techniques. Instead of manually adjusting parameters like the exploration rate or gamma, I could use methods like grid search, random search, or even more advanced techniques such as Bayesian optimization. These approaches allow me to explore a wider range of hyperparameter values efficiently, finding better combinations for improved performance.\n",
        "\n",
        "I also implemented cross-validation to avoid overfitting and to estimate the model’s performance on unseen data more accurately. This way, I can ensure that my model generalizes well rather than just fitting the training data. Additionally, using adaptive learning algorithms like Adam or RMSprop could enhance my model, as they adjust the learning rate dynamically during training.\n",
        "\n",
        "Moreover, I can experiment with learning rate schedules or more complex neural network architectures to further boost the performance. If possible, increasing the size of my dataset would also help the model learn better and improve the overall result."
      ],
      "metadata": {
        "id": "dqiP51Y6_g_7"
      }
    }
  ],
  "metadata": {
    "accelerator": "GPU",
    "colab": {
      "gpuType": "T4",
      "provenance": []
    },
    "kernelspec": {
      "display_name": "Python 3",
      "name": "python3"
    },
    "language_info": {
      "name": "python"
    }
  },
  "nbformat": 4,
  "nbformat_minor": 0
}